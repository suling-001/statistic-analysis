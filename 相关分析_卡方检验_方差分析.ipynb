{
 "cells": [
  {
   "cell_type": "code",
   "execution_count": 34,
   "id": "3603d508-785c-439c-bc81-fdfd089cb6ff",
   "metadata": {},
   "outputs": [],
   "source": [
    "#H0：各组比例相等，解释变量对被解释变量无影响\n",
    "import pandas  as  pd\n",
    "import numpy as np\n",
    "import scipy \n",
    "import warnings # 忽略所有警告\n",
    "warnings.filterwarnings(\"ignore\")"
   ]
  },
  {
   "cell_type": "markdown",
   "id": "505f66df-ff10-40b3-80e1-a7a2d4cf3f87",
   "metadata": {
    "jp-MarkdownHeadingCollapsed": true
   },
   "source": [
    "## 相关分析"
   ]
  },
  {
   "cell_type": "code",
   "execution_count": 32,
   "id": "6bf2247f-d8bf-46cd-8bbb-b4f5df10cd32",
   "metadata": {},
   "outputs": [],
   "source": [
    "#两个连续变量间是否存在关系"
   ]
  },
  {
   "cell_type": "code",
   "execution_count": 13,
   "id": "bfb06faf-0751-43a1-83d7-ecd85bd14510",
   "metadata": {},
   "outputs": [
    {
     "name": "stdout",
     "output_type": "stream",
     "text": [
      "相关系数 0.9906058102195705 \n",
      "\n",
      "相关系数统计量t 26.118621309002304 \n",
      "\n",
      "统计量的P值 1.2798651027878805e-12\n",
      "拒绝原假设, 身高体重有显著的相关性\n",
      "相关系数 0.9906058102195707\n",
      "统计量的P值 1.279863082554445e-12\n"
     ]
    }
   ],
   "source": [
    "#相关分析 :  两个连续变量间是否存在线性关系\n",
    "import numpy as np\n",
    "import scipy \n",
    "# 身高数据（单位：cm）\n",
    "heights =np.array([162, 155, 168, 172, 158, 180, 175, 163, 170, 185, 160, 177, 165, 182, 169])\n",
    "# 对应体重数据（单位：kg）\n",
    "weights =np.array([55, 48, 62, 68, 50, 75, 70, 53, 65, 82, 52, 73, 58, 78, 67])\n",
    "#手动计算 r：衡量两个变量的线性关系\t计算偏离均值的乘积，标准化到[-1,1]\n",
    "r = np.sum((heights-heights.mean()) * (weights-weights.mean()))/np.sqrt(np.sum((heights-heights.mean())**2) * np.sum((weights-weights.mean())**2))\n",
    "r\n",
    "\n",
    "#---------------------------公式计算--------------------------------\n",
    "corr_table = np.corrcoef(heights,weights) #得到一个相关系数矩阵\n",
    "corr=corr_table[0,1]\n",
    "print(\"相关系数\",corr,\"\\n\")\n",
    "\n",
    "#确定假设: H0:总体相关系数 为 0 ，身高与体重无关\n",
    "#         H1:总体相关系数不 为 0 ，身高与体重有关\n",
    "\n",
    "#检验r是否显著（非随机）\tt越大，相关性越不可能偶然\n",
    "corr_t=corr * np.sqrt(weights.size-2)/np.sqrt(1-corr**2)\n",
    "print(\"相关系数统计量t\",corr_t,\"\\n\") #这个值越大说明相关性越强。\n",
    "\n",
    "#确定小概率\n",
    "alpha = 0.05\n",
    "\n",
    "#t统计量的p值判断是否统计显著\tp < 0.05 说明相关性真实存在\n",
    "p=(1-scipy.stats.t.cdf(corr_t,weights.size-2))*2\n",
    "print(\"统计量的P值\",p)\n",
    "\n",
    "if p<alpha:\n",
    "    print(\"拒绝原假设, 身高体重有显著的相关性\")\n",
    "else:\n",
    "    print(\"接受原假设, 身高体重没有显著的相关性\")\n",
    "\n",
    "#-----------------------函数验证--------------------------------------\n",
    "cor,p_value=scipy.stats.pearsonr(heights,weights)  \n",
    "alpha = 0.05\n",
    "print(\"相关系数\",cor)\n",
    "print(\"统计量的P值\",p_value)\n"
   ]
  },
  {
   "cell_type": "markdown",
   "id": "cd5cf1e9-0212-40ff-9d77-3066625a83b3",
   "metadata": {
    "jp-MarkdownHeadingCollapsed": true
   },
   "source": [
    "## 列联分析"
   ]
  },
  {
   "cell_type": "code",
   "execution_count": 33,
   "id": "ef30e04e-7f8b-4a9c-9e5a-167df2353606",
   "metadata": {},
   "outputs": [],
   "source": [
    "#卡方检验：两个分类变量间是否存在关系"
   ]
  },
  {
   "cell_type": "code",
   "execution_count": 18,
   "id": "20250cb7-6ed5-48b4-a3b3-a24554b81d4d",
   "metadata": {},
   "outputs": [
    {
     "name": "stdout",
     "output_type": "stream",
     "text": [
      "总体的点击占比 0.5652173913043478\n",
      "卡方统计量 1.8651072124756343 p 0.17203651012018484\n",
      "接受原假设, 性别对是否点击无影响\n"
     ]
    }
   ],
   "source": [
    "data = pd.read_excel(r\"D:\\DA\\4.python\\3.统计分析\\卡方检验与方差分析案例数据.xlsx\",sheet_name=3)\n",
    "data.head()\n",
    "\n",
    "total_bili = (data.Click==\"点击\").sum()/data.shape[0] #总的点击数/总人数\n",
    "print(\"总体的点击占比\",total_bili)\n",
    "\n",
    "crosstabl = pd.crosstab(data.Sex,data.Click) #列联交叉表 真实频数\n",
    "crosstabl\n",
    "\n",
    "crosstabl_ex = crosstabl.copy() #期望频数表\n",
    "crosstabl_ex.iloc[:,1] = crosstabl.sum(axis=1) * total_bili\n",
    "crosstabl_ex.iloc[:,0] = crosstabl.sum(axis=1)-crosstabl_ex.iloc[:,1]\n",
    "crosstabl_ex \n",
    "\n",
    "kafazhi=  ((crosstabl-crosstabl_ex)**2/crosstabl_ex).sum().sum()\n",
    "kafazhi\n",
    "\n",
    "p = 1-scipy.stats.chi2.cdf(kafazhi,(crosstabl.shape[0]-1) * (crosstabl.shape[1]-1))\n",
    "print(\"卡方统计量\",kafazhi,\"p\",p)\n",
    "\n",
    "alpha = 0.05\n",
    "if p<alpha:\n",
    "    print(\"拒绝原假设, 性别对是否点击有影响\")\n",
    "else:\n",
    "    print(\"接受原假设, 性别对是否点击无影响\")"
   ]
  },
  {
   "cell_type": "code",
   "execution_count": 31,
   "id": "f47d98f2-2bfe-43f3-a6c9-004fc9bb107a",
   "metadata": {},
   "outputs": [
    {
     "name": "stdout",
     "output_type": "stream",
     "text": [
      "卡方统计量 1.8651072124756327 p 0.172036510120181\n",
      "接受原假设, 性别对是否点击无影响\n"
     ]
    }
   ],
   "source": [
    "#函数验证\n",
    "s,p,df,ex=scipy.stats.chi2_contingency(crosstabl,correction=False)\n",
    "print(\"卡方统计量\",s,\"p\", p)\n",
    "alpha = 0.05\n",
    "if p<alpha:\n",
    "    print(\"拒绝原假设, 性别对是否点击有影响\")\n",
    "else:\n",
    "    print(\"接受原假设, 性别对是否点击无影响\")"
   ]
  },
  {
   "cell_type": "markdown",
   "id": "873aecd1-75fe-4577-a0a0-13f973bb2f94",
   "metadata": {},
   "source": [
    "## 方差分析"
   ]
  },
  {
   "cell_type": "markdown",
   "id": "5bc512ba-5bbb-4784-a516-8d8ddadb9149",
   "metadata": {
    "jp-MarkdownHeadingCollapsed": true
   },
   "source": [
    "### eg.1(分三列)"
   ]
  },
  {
   "cell_type": "code",
   "execution_count": 36,
   "id": "0ccbafc9-eb0c-42d2-8062-d62e2de84f9c",
   "metadata": {},
   "outputs": [
    {
     "name": "stdout",
     "output_type": "stream",
     "text": [
      "SST 35479.65079365079\n",
      "SSA 6416.222222222223 MSA 3208.1111111111113\n",
      "29063.42857142857\n",
      "SSE 29063.428571428572 MSE 484.3904761904762\n",
      "F 6.622985522633583 自由度 2 60\n",
      "F P 0.0025178235002747407\n"
     ]
    },
    {
     "data": {
      "text/plain": [
       "array('拒绝原假设：结论各组均值有明显差异', dtype='<U18')"
      ]
     },
     "execution_count": 36,
     "metadata": {},
     "output_type": "execute_result"
    }
   ],
   "source": [
    "#方差分析：检验多个总体均值是否存在显著差异，通过分析数据判断分类型自变量对数值行因变量是否有影响\n",
    "\n",
    "# H0:各水平均值相等，\n",
    "import pandas  as  pd\n",
    "import numpy as np\n",
    "import scipy \n",
    "\n",
    "#某教育机构研究三种教学方法（A、B、C）对学生数学成绩的影响\t\n",
    "data = pd.read_excel(r\"D:\\DA\\4.python\\3.统计分析\\卡方检验与方差分析案例数据.xlsx\",sheet_name=1)\n",
    "data.head()\n",
    "\n",
    "#SST = 总差异(每个变量与总体均值的差异平方和)\n",
    "SST = ((data-data.mean(None))**2).sum().sum()\n",
    "print(\"SST\",SST)\n",
    "\n",
    "#SSA=各水平均值与总体均值的差异平方和\n",
    "SSA = (((data.mean() - data.mean(None))**2)*data.count()).sum()\n",
    "MSA = SSA/(data.columns.size-1)\n",
    "print(\"SSA\",SSA , \"MSA\",MSA)\n",
    "\n",
    "#SSE=各变量与所在水平的均值差异平方和\t = SST-SSA\n",
    "SSE = SST-SSA\n",
    "print(SSE)\n",
    "\n",
    "MSE = SSE/(data.size-data.columns.size)\n",
    "print(\"SSE\",SSE,\"MSE\",SSE/(data.size-data.columns.size))\n",
    "\n",
    "F = MSA/MSE #组间均方/组内均方\n",
    "print(\"F\",F,\"自由度\", data.columns.size-1,data.size-data.columns.size)\n",
    "P = 1- scipy.stats.f.cdf(F,data.columns.size-1,data.size-data.columns.size)\n",
    "print(\"F\",\"P\",P)\n",
    "\n",
    "#小概率 alpha \n",
    "alpha =0.05\n",
    "np.where(P<alpha,\"拒绝原假设：结论各组均值有明显差异\",\"接受原假设：结论各各组均值无明显差异\")"
   ]
  },
  {
   "cell_type": "code",
   "execution_count": 44,
   "id": "5c9f6df6-a2cb-416f-9274-9f42e0784b7c",
   "metadata": {},
   "outputs": [
    {
     "name": "stdout",
     "output_type": "stream",
     "text": [
      "6.622985522633584 0.002517823500274781\n"
     ]
    },
    {
     "data": {
      "text/plain": [
       "array('拒绝原假设：结论各组均值有明显差异', dtype='<U17')"
      ]
     },
     "execution_count": 44,
     "metadata": {},
     "output_type": "execute_result"
    }
   ],
   "source": [
    "#函数验证\n",
    "statistic,pvalue = scipy.stats.f_oneway(data.A,data.B,data.C)\n",
    "print(statistic,pvalue)\n",
    "#小概率 alpha\n",
    "alpha =0.05\n",
    "np.where(pvalue<alpha,\"拒绝原假设：结论各组均值有明显差异\",\"接受原假设：结论各组均值无明显差异\")"
   ]
  },
  {
   "cell_type": "code",
   "execution_count": null,
   "id": "f579eb47-dc8c-4a8f-ba83-4aaa683d5695",
   "metadata": {},
   "outputs": [],
   "source": [
    "#条件语句\n",
    "#np.where(条件语句,条件满足时的内容,条件不满足时的内容) #可嵌套"
   ]
  },
  {
   "cell_type": "markdown",
   "id": "3b31c958-2424-4a45-ab33-0f42b0b0ae13",
   "metadata": {
    "jp-MarkdownHeadingCollapsed": true
   },
   "source": [
    "###  eg.2(在一列)"
   ]
  },
  {
   "cell_type": "code",
   "execution_count": 70,
   "id": "7569a714-108d-4cef-9dfe-dfbc9b61f1c8",
   "metadata": {},
   "outputs": [
    {
     "name": "stdout",
     "output_type": "stream",
     "text": [
      "6416.222222222223 3208.1111111111113\n",
      "6.622985522633584 0.0025178235002747407\n"
     ]
    },
    {
     "data": {
      "text/plain": [
       "array('拒绝原假设: 结论是 教学方法对成绩有影响', dtype='<U21')"
      ]
     },
     "execution_count": 70,
     "metadata": {},
     "output_type": "execute_result"
    }
   ],
   "source": [
    "#某教育机构研究三种教学方法（A、B、C）对学生数学成绩的影响\t\n",
    "data = pd.read_excel(r\"D:\\DA\\4.python\\3.统计分析\\卡方检验与方差分析案例数据.xlsx\",sheet_name=4)\n",
    "data.head()\n",
    "#SST\n",
    "SST = np.sum((data.成绩-data.成绩.mean()) **2)\n",
    "SST\n",
    "\n",
    "#SSA\n",
    "SSA = np.sum(((data.groupby(\"教学方法\")[\"成绩\"].mean()-data.成绩.mean())**2) * data.groupby(\"教学方法\")[\"成绩\"].count())\n",
    "MSA = SSA/(data.教学方法.nunique()-1)\n",
    "print(SSA,MSA)\n",
    "\n",
    "SSE = SST-SSA\n",
    "#SSE=data.apply(lambda x:(x[1]-data.成绩[data.教学方法==x[0]].mean())**2,axis=1).sum()\n",
    "MSE=SSE/(data.成绩.size-data.教学方法.nunique())\n",
    "\n",
    "F = MSA/MSE\n",
    "F_p= 1-scipy.stats.f.cdf(F,data.教学方法.nunique()-1,data.成绩.size-data.教学方法.nunique())\n",
    "print(F,F_p)\n",
    "np.where(F_p<0.05,\"拒绝原假设: 结论是 教学方法对成绩有影响\",\"接受原假设: 结论是 教学方法对成绩无影响\")"
   ]
  },
  {
   "cell_type": "markdown",
   "id": "f9c81168-1197-4f76-bbf7-1e1e47be8d3e",
   "metadata": {
    "jp-MarkdownHeadingCollapsed": true
   },
   "source": [
    "### eg.3(函数)"
   ]
  },
  {
   "cell_type": "code",
   "execution_count": 86,
   "id": "662913f9-e3cb-49e9-bfa7-838ac48d95f8",
   "metadata": {},
   "outputs": [
    {
     "data": {
      "text/plain": [
       "F_onewayResult(statistic=np.float64(6.622985522633584), pvalue=np.float64(0.002517823500274781))"
      ]
     },
     "execution_count": 86,
     "metadata": {},
     "output_type": "execute_result"
    }
   ],
   "source": [
    "scipy.stats.f_oneway(data.成绩[data.教学方法==\"A\"],data.成绩[data.教学方法==\"B\"],data.成绩[data.教学方法==\"C\"])"
   ]
  }
 ],
 "metadata": {
  "kernelspec": {
   "display_name": "Python 3 (ipykernel)",
   "language": "python",
   "name": "python3"
  },
  "language_info": {
   "codemirror_mode": {
    "name": "ipython",
    "version": 3
   },
   "file_extension": ".py",
   "mimetype": "text/x-python",
   "name": "python",
   "nbconvert_exporter": "python",
   "pygments_lexer": "ipython3",
   "version": "3.12.4"
  }
 },
 "nbformat": 4,
 "nbformat_minor": 5
}
